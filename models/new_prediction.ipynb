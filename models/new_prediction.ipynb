{
 "cells": [
  {
   "cell_type": "code",
   "execution_count": 1,
   "id": "0b4a3a76-5453-4588-bc13-63181b442856",
   "metadata": {},
   "outputs": [],
   "source": [
    "import os\n",
    "import pandas as pd\n",
    "import numpy as np\n",
    "# Get project root directory\n",
    "projekt_root = os.path.abspath(os.path.join(os.getcwd(), \"..\"))\n",
    "\n",
    "# Set the cleaned data directory path\n",
    "cleaned_data_dir = os.path.join(projekt_root, \"cleaned_data\")\n",
    "\n",
    "# Define file paths for all datasets\n",
    "file_paths = {\n",
    "    \"global_ai_ml_salaries\": os.path.join(cleaned_data_dir, \"cleaned_global_ai_ml_data_salaries.csv\"),\n",
    "    \"global_salaries\": os.path.join(cleaned_data_dir, \"cleaned_global-salaries-in-ai-ml-data-science.csv\"),\n",
    "    \"jobs_2024\": os.path.join(cleaned_data_dir, \"cleaned_jobs_in_data_2024.csv\"),\n",
    "    \"data_science_salaries\": os.path.join(cleaned_data_dir, \"cleaned_data_science_salaries.csv\")\n",
    "}"
   ]
  },
  {
   "cell_type": "markdown",
   "id": "85941617-6f8f-4844-9ceb-84d1d3028fb6",
   "metadata": {},
   "source": [
    "### load data"
   ]
  },
  {
   "cell_type": "code",
   "execution_count": 2,
   "id": "c818eed7-2729-413f-9d2c-9bed4e8f203b",
   "metadata": {},
   "outputs": [
    {
     "name": "stdout",
     "output_type": "stream",
     "text": [
      "Loaded dataset: global_ai_ml_salaries\n",
      "Loaded dataset: global_salaries\n",
      "Loaded dataset: jobs_2024\n",
      "Loaded dataset: data_science_salaries\n"
     ]
    }
   ],
   "source": [
    "# Load all datasets\n",
    "datasets = {}\n",
    "for name, path in file_paths.items():\n",
    "    try:\n",
    "        datasets[name] = pd.read_csv(path)\n",
    "        print(f\"Loaded dataset: {name}\")\n",
    "    except Exception as e:\n",
    "        print(f\"Error loading {name}: {e}\")\n",
    "\n",
    "target_variable = \"salary_in_usd\""
   ]
  },
  {
   "cell_type": "code",
   "execution_count": 3,
   "id": "ac0628dc-5055-4cb5-9228-ab5fb04f14c6",
   "metadata": {},
   "outputs": [
    {
     "name": "stdout",
     "output_type": "stream",
     "text": [
      "Processed dataset: global_ai_ml_salaries (Columns: ['work_year', 'experience_level', 'employment_type', 'company_size', 'job_title_encoded', 'salary_in_usd'])\n",
      "Processed dataset: global_salaries (Columns: ['work_year', 'experience_level', 'employment_type', 'company_size', 'job_title_encoded', 'salary_in_usd'])\n",
      "Processed dataset: jobs_2024 (Columns: ['work_year', 'experience_level', 'employment_type', 'company_size', 'job_title_encoded', 'salary_in_usd'])\n",
      "Processed dataset: data_science_salaries (Columns: ['experience_level', 'employment_type', 'work_year', 'company_size', 'job_title_encoded', 'salary_in_usd'])\n"
     ]
    }
   ],
   "source": [
    "# Process datasets\n",
    "processed_datasets = {}\n",
    "for name, df in datasets.items():\n",
    "    # Ensure the dataset contains the required features\n",
    "    available_features = [col for col in df.columns if col in [\"work_year\", \"experience_level\", \"employment_type\", \"company_size\", \"job_title\"]]\n",
    "\n",
    "    if \"job_title\" in df.columns:\n",
    "        # Encode job_title\n",
    "        from sklearn.preprocessing import LabelEncoder\n",
    "        job_title_encoder = LabelEncoder()\n",
    "        df[\"job_title_encoded\"] = job_title_encoder.fit_transform(df[\"job_title\"])\n",
    "        available_features.remove(\"job_title\")  # Remove the original text column\n",
    "        available_features.append(\"job_title_encoded\")  # Replace with the numerical column\n",
    "\n",
    "    if target_variable in df.columns:\n",
    "        processed_datasets[name] = df[available_features + [target_variable]]\n",
    "        print(f\"Processed dataset: {name} (Columns: {available_features + [target_variable]})\")\n",
    "    else:\n",
    "        print(f\"Skipped dataset: {name} (Target variable not found)\")"
   ]
  },
  {
   "cell_type": "markdown",
   "id": "fcbe24ae-ca3e-4724-9cdc-a65c156b13ef",
   "metadata": {},
   "source": [
    "### process job_title"
   ]
  },
  {
   "cell_type": "code",
   "execution_count": 4,
   "id": "b65fcae9-d6b7-4da9-aa70-32c58e922d3a",
   "metadata": {},
   "outputs": [
    {
     "name": "stdout",
     "output_type": "stream",
     "text": [
      "\n",
      "Dataset: global_ai_ml_salaries\n",
      "Columns and Data Types:\n",
      "work_year             int64\n",
      "experience_level     object\n",
      "employment_type      object\n",
      "company_size         object\n",
      "job_title_encoded     int32\n",
      "salary_in_usd         int64\n",
      "dtype: object\n",
      "\n",
      "Unique Values for Categorical Columns:\n",
      "  experience_level: ['SE' 'MI' 'EN' 'EX']\n",
      "  employment_type: ['FT' 'PT' 'CT' 'FL']\n",
      "  company_size: ['M' 'L' 'S']\n",
      "\n",
      "Dataset: global_salaries\n",
      "Columns and Data Types:\n",
      "work_year             int64\n",
      "experience_level     object\n",
      "employment_type      object\n",
      "company_size         object\n",
      "job_title_encoded     int32\n",
      "salary_in_usd         int64\n",
      "dtype: object\n",
      "\n",
      "Unique Values for Categorical Columns:\n",
      "  experience_level: ['MI' 'EN' 'SE' 'EX']\n",
      "  employment_type: ['FT' 'PT' 'CT' 'FL']\n",
      "  company_size: ['M' 'L' 'S']\n",
      "\n",
      "Dataset: jobs_2024\n",
      "Columns and Data Types:\n",
      "work_year             int64\n",
      "experience_level     object\n",
      "employment_type      object\n",
      "company_size         object\n",
      "job_title_encoded     int32\n",
      "salary_in_usd         int64\n",
      "dtype: object\n",
      "\n",
      "Unique Values for Categorical Columns:\n",
      "  experience_level: ['executive' 'senior' 'mid-level' 'entry-level']\n",
      "  employment_type: ['full-time' 'contract' 'part-time' 'freelance']\n",
      "  company_size: ['Medium' 'Small' 'Large']\n",
      "\n",
      "Dataset: data_science_salaries\n",
      "Columns and Data Types:\n",
      "experience_level     object\n",
      "employment_type      object\n",
      "work_year             int64\n",
      "company_size         object\n",
      "job_title_encoded     int32\n",
      "salary_in_usd         int64\n",
      "dtype: object\n",
      "\n",
      "Unique Values for Categorical Columns:\n",
      "  experience_level: ['mid-level' 'senior-level' 'entry-level' 'executive-level']\n",
      "  employment_type: ['full-time' 'part-time' 'contract' 'freelance']\n",
      "  company_size: ['medium' 'large' 'small']\n"
     ]
    }
   ],
   "source": [
    "\n",
    "for name, df in processed_datasets.items():\n",
    "    print(f\"\\nDataset: {name}\")\n",
    "    print(\"Columns and Data Types:\")\n",
    "    print(df.dtypes)\n",
    "    print(\"\\nUnique Values for Categorical Columns:\")\n",
    "    for col in df.columns:\n",
    "        if df[col].dtype == \"object\": \n",
    "            print(f\"  {col}: {df[col].unique()}\")"
   ]
  },
  {
   "cell_type": "code",
   "execution_count": 5,
   "id": "f63d0638-f7c8-4808-ae6a-df29cb7e9b06",
   "metadata": {},
   "outputs": [
    {
     "name": "stdout",
     "output_type": "stream",
     "text": [
      "Dataset global_ai_ml_salaries contains target variable: salary_in_usd\n",
      "Dataset global_salaries contains target variable: salary_in_usd\n",
      "Dataset jobs_2024 contains target variable: salary_in_usd\n",
      "Dataset data_science_salaries contains target variable: salary_in_usd\n"
     ]
    }
   ],
   "source": [
    "\n",
    "for name, df in processed_datasets.items():\n",
    "    if target_variable in df.columns:\n",
    "        print(f\"Dataset {name} contains target variable: {target_variable}\")\n",
    "    elif \"SalaryUSD\" in df.columns:\n",
    "        print(f\"Dataset {name} contains alternative target variable: SalaryUSD\")\n",
    "    else:\n",
    "        print(f\"Dataset {name} does not contain the target variable.\")"
   ]
  },
  {
   "cell_type": "code",
   "execution_count": 6,
   "id": "8bba7820-5fed-46a6-a6a3-5bab5b0ffab4",
   "metadata": {},
   "outputs": [
    {
     "name": "stdout",
     "output_type": "stream",
     "text": [
      "\n",
      "Dataset: global_ai_ml_salaries\n",
      "Columns: ['work_year', 'experience_level', 'employment_type', 'company_size', 'job_title_encoded', 'salary_in_usd']\n",
      "\n",
      "Dataset: global_salaries\n",
      "Columns: ['work_year', 'experience_level', 'employment_type', 'company_size', 'job_title_encoded', 'salary_in_usd']\n",
      "\n",
      "Dataset: jobs_2024\n",
      "Columns: ['work_year', 'experience_level', 'employment_type', 'company_size', 'job_title_encoded', 'salary_in_usd']\n",
      "\n",
      "Dataset: data_science_salaries\n",
      "Columns: ['experience_level', 'employment_type', 'work_year', 'company_size', 'job_title_encoded', 'salary_in_usd']\n"
     ]
    }
   ],
   "source": [
    "\n",
    "for name, df in processed_datasets.items():\n",
    "    print(f\"\\nDataset: {name}\")\n",
    "    print(\"Columns:\", df.columns.tolist())"
   ]
  },
  {
   "cell_type": "code",
   "execution_count": 7,
   "id": "d8a7b22a-2194-4dd6-be7a-41727d0551d5",
   "metadata": {},
   "outputs": [
    {
     "name": "stdout",
     "output_type": "stream",
     "text": [
      "   work_year experience_level employment_type company_size  job_title_encoded  \\\n",
      "0       2024               SE              FT            M                 74   \n",
      "1       2024               SE              FT            M                 74   \n",
      "2       2024               MI              FT            M                150   \n",
      "3       2024               MI              FT            M                150   \n",
      "4       2024               SE              FT            M                155   \n",
      "\n",
      "   salary_in_usd  \n",
      "0         170955  \n",
      "1         130270  \n",
      "2          92144  \n",
      "3          57616  \n",
      "4         201600  \n"
     ]
    }
   ],
   "source": [
    "# combine the data\n",
    "combined_data = pd.concat(processed_datasets.values(), ignore_index=True)\n",
    "\n",
    "\n",
    "print(combined_data.head())\n",
    "\n",
    "# combined_data = combined_data.query(\"work_year != 2020\")\n"
   ]
  },
  {
   "cell_type": "code",
   "execution_count": 8,
   "id": "73294ce7-237f-4882-8cc7-44aaa2ccf5d0",
   "metadata": {},
   "outputs": [
    {
     "name": "stdout",
     "output_type": "stream",
     "text": [
      "             Feature  Importance\n",
      "4  job_title_encoded    0.608114\n",
      "1   experience_level    0.280735\n",
      "0          work_year    0.055456\n",
      "3       company_size    0.042385\n",
      "2    employment_type    0.013310\n"
     ]
    },
    {
     "data": {
      "image/png": "[encoded data removed]",
      "text/plain": [
       "<Figure size 1000x600 with 1 Axes>"
      ]
     },
     "metadata": {},
     "output_type": "display_data"
    }
   ],
   "source": [
    "from sklearn.ensemble import RandomForestRegressor\n",
    "\n",
    "# Select features and target variable\n",
    "X = combined_data.drop(columns=[\"salary_in_usd\"])  # Features\n",
    "y = combined_data[\"salary_in_usd\"]                # Target variable\n",
    "\n",
    "# Apply Label Encoding to categorical features\n",
    "from sklearn.preprocessing import LabelEncoder\n",
    "\n",
    "label_encoders = {}\n",
    "for col in [\"experience_level\", \"employment_type\", \"company_size\"]:\n",
    "    le = LabelEncoder()\n",
    "    X[col] = le.fit_transform(X[col])\n",
    "    label_encoders[col] = le\n",
    "\n",
    "# Initialize the Random Forest Regressor model\n",
    "rf_model = RandomForestRegressor(random_state=42)\n",
    "\n",
    "# Train the model\n",
    "rf_model.fit(X, y)\n",
    "\n",
    "# Get feature importances\n",
    "feature_importances = rf_model.feature_importances_\n",
    "feature_names = X.columns\n",
    "\n",
    "# Create a DataFrame for feature importances\n",
    "importance_df = pd.DataFrame({\"Feature\": feature_names, \"Importance\": feature_importances})\n",
    "importance_df = importance_df.sort_values(by=\"Importance\", ascending=False)\n",
    "\n",
    "# Print the most important features\n",
    "print(importance_df)\n",
    "\n",
    "# Visualize feature importances\n",
    "import matplotlib.pyplot as plt\n",
    "\n",
    "plt.figure(figsize=(10, 6))\n",
    "plt.barh(importance_df[\"Feature\"], importance_df[\"Importance\"])\n",
    "plt.xlabel(\"Feature Importance\")\n",
    "plt.ylabel(\"Feature\")\n",
    "plt.title(\"Feature Importance (Random Forest)\")\n",
    "plt.show()"
   ]
  },
  {
   "cell_type": "code",
   "execution_count": 9,
   "id": "ffeb46a5-32d4-438f-91fc-efd3e7359784",
   "metadata": {},
   "outputs": [],
   "source": [
    "import numpy as np\n",
    "from sklearn.preprocessing import LabelEncoder\n",
    "from sklearn.model_selection import train_test_split\n",
    "\n",
    "# Retain important features\n",
    "selected_features = [\"job_title_encoded\", \"experience_level\", \"work_year\", \"company_size\"]\n",
    "X_selected = combined_data[selected_features].copy()  # Explicitly create a copy\n",
    "\n",
    "# Create a new feature: interaction between job_title_encoded and experience_level\n",
    "X_selected.loc[:, \"job_exp_interaction\"] = X_selected[\"job_title_encoded\"].astype(str) + \"_\" + X_selected[\"experience_level\"].astype(str)\n",
    "\n",
    "# Apply Label Encoding to the interaction feature\n",
    "le = LabelEncoder()\n",
    "X_selected.loc[:, \"job_exp_interaction\"] = le.fit_transform(X_selected[\"job_exp_interaction\"])\n",
    "\n",
    "# Apply log transformation to the target variable\n",
    "y_log = np.log1p(combined_data[\"salary_in_usd\"])  # Use log1p to avoid negative log values"
   ]
  },
  {
   "cell_type": "code",
   "execution_count": 10,
   "id": "57babc27-f675-44a3-9009-2a88910010a6",
   "metadata": {},
   "outputs": [],
   "source": [
    "# define category features\n",
    "categorical_features = [\"experience_level\", \"company_size\", \"job_exp_interaction\"]\n",
    "numerical_features = [\"job_title_encoded\", \"work_year\"]\n",
    "\n",
    "X_train, X_test, y_train, y_test = train_test_split(X_selected, y_log, test_size=0.2, random_state=42)"
   ]
  },
  {
   "cell_type": "code",
   "execution_count": 11,
   "id": "c6ae4409-dca1-403b-9061-82420045b2ee",
   "metadata": {},
   "outputs": [],
   "source": [
    "from sklearn.preprocessing import OneHotEncoder\n",
    "from sklearn.compose import ColumnTransformer\n",
    "\n",
    "# Initialize the OneHotEncoder\n",
    "encoder = OneHotEncoder(handle_unknown=\"ignore\", sparse_output=False)\n",
    "\n",
    "# Create a feature engineering pipeline\n",
    "preprocessor = ColumnTransformer(\n",
    "    transformers=[\n",
    "        (\"num\", \"passthrough\", numerical_features),  # Pass through numerical features unchanged\n",
    "        (\"cat\", encoder, categorical_features)       # Apply OneHotEncoder to categorical features\n",
    "    ]\n",
    ")\n",
    "\n",
    "# Apply feature engineering to the training and test sets\n",
    "X_train_transformed = preprocessor.fit_transform(X_train)\n",
    "X_test_transformed = preprocessor.transform(X_test)"
   ]
  },
  {
   "cell_type": "markdown",
   "id": "3136d452-7968-4eb6-9e93-3106d0874630",
   "metadata": {},
   "source": [
    "### random forest\n"
   ]
  },
  {
   "cell_type": "code",
   "execution_count": 12,
   "id": "bf48e087-460a-4c89-a243-7c5b3dc584b7",
   "metadata": {},
   "outputs": [],
   "source": [
    "from sklearn.ensemble import RandomForestRegressor\n",
    "import time\n",
    "from sklearn.metrics import mean_absolute_error, mean_squared_error, r2_score  \n",
    "def train_random_forest(X_train, y_train, X_test, y_test):\n",
    "    start_time = time.time()\n",
    "    rf_model = RandomForestRegressor(random_state=42,n_jobs=3)\n",
    "    rf_model.fit(X_train, y_train)\n",
    "\n",
    "\n",
    "    y_pred_rf = rf_model.predict(X_test)\n",
    "\n",
    "    end_time = time.time()\n",
    "    total_time = end_time - start_time\n",
    "    \n",
    "    y_test_actual = np.expm1(y_test) \n",
    "    y_pred_rf_actual = np.expm1(y_pred_rf) \n",
    "\n",
    "    mae_rf = mean_absolute_error(y_test_actual, y_pred_rf_actual)\n",
    "    mse_rf = mean_squared_error(y_test_actual, y_pred_rf_actual)\n",
    "    r2_rf = r2_score(y_test_actual, y_pred_rf_actual)\n",
    "\n",
    "    print(f\"Random Forest - Mean Absolute Error (MAE): {mae_rf}\")\n",
    "    print(f\"Random Forest - Mean Squared Error (MSE): {mse_rf}\")\n",
    "    print(f\"Random Forest - R-squared (R²): {r2_rf}\")\n",
    "    print(f\"Total Execution Time: {total_time:.4f} seconds\")\n",
    "\n",
    "    return rf_model, y_pred_rf_actual,total_time"
   ]
  },
  {
   "cell_type": "markdown",
   "id": "d699aa4c-e00a-46cb-afe4-16d87cd6de50",
   "metadata": {},
   "source": [
    "### LightGBM "
   ]
  },
  {
   "cell_type": "code",
   "execution_count": 13,
   "id": "1e13cb14-4cfb-41b8-bfe0-df1c24c4990e",
   "metadata": {},
   "outputs": [],
   "source": [
    "import lightgbm as lgb\n",
    "\n",
    "def train_lightgbm(X_train, y_train, X_test, y_test):\n",
    "    lgb_model = lgb.LGBMRegressor(random_state=42)\n",
    "    lgb_model.fit(X_train, y_train)\n",
    "\n",
    "    y_pred_lgb = lgb_model.predict(X_test)\n",
    "\n",
    "\n",
    "    y_test_actual = np.expm1(y_test)  \n",
    "    y_pred_lgb_actual = np.expm1(y_pred_lgb) \n",
    "\n",
    "    mae_lgb = mean_absolute_error(y_test_actual, y_pred_lgb_actual)\n",
    "    mse_lgb = mean_squared_error(y_test_actual, y_pred_lgb_actual)\n",
    "    r2_lgb = r2_score(y_test_actual, y_pred_lgb_actual)\n",
    "\n",
    "    print(f\"LightGBM - Mean Absolute Error (MAE): {mae_lgb}\")\n",
    "    print(f\"LightGBM - Mean Squared Error (MSE): {mse_lgb}\")\n",
    "    print(f\"LightGBM - R-squared (R²): {r2_lgb}\")\n",
    "\n",
    "    return lgb_model, y_pred_lgb_actual\n",
    "\n",
    "\n",
    "# Optimized LightGBM training function\n",
    "def train_optimized_lightgbm(X_train, y_train, X_test, y_test):\n",
    "    # Define the hyperparameter grid\n",
    "    param_grid = {\n",
    "        \"num_leaves\": [31, 63, 127],  # Number of leaf nodes\n",
    "        \"learning_rate\": [0.01, 0.05, 0.1],  # Learning rate\n",
    "        \"n_estimators\": [100, 200, 300],  # Number of trees\n",
    "    }\n",
    "\n",
    "    lgb_model = lgb.LGBMRegressor(random_state=42)\n",
    "\n",
    "    # Initialize GridSearchCV\n",
    "    grid_search = GridSearchCV(\n",
    "        estimator=lgb_model,  # Model to use\n",
    "        param_grid=param_grid,  # Hyperparameter grid\n",
    "        cv=3,  # Number of cross-validation folds\n",
    "        scoring=\"r2\",  # Evaluation metric (R²)\n",
    "        n_jobs=-1  # Use all available CPU cores\n",
    "    )\n",
    "\n",
    "    grid_search.fit(X_train, y_train)\n",
    "\n",
    "    # Print the best parameters\n",
    "    print(\"Best parameters:\", grid_search.best_params_)\n",
    "\n",
    "    # Train the model with the best parameters\n",
    "    best_model = grid_search.best_estimator_\n",
    "\n",
    "    # Make predictions\n",
    "    y_pred_lgb_optimized = best_model.predict(X_test)\n",
    "\n",
    "    # Inverse transform the predicted and actual values\n",
    "    y_test_actual = np.expm1(y_test) \n",
    "    y_pred_lgb_optimized_actual = np.expm1(y_pred_lgb_optimized)  \n",
    "\n",
    "    mae_lgb_optimized = mean_absolute_error(y_test_actual, y_pred_lgb_optimized_actual)\n",
    "    mse_lgb_optimized = mean_squared_error(y_test_actual, y_pred_lgb_optimized_actual)\n",
    "    r2_lgb_optimized = r2_score(y_test_actual, y_pred_lgb_optimized_actual)\n",
    "\n",
    "    print(f\"Optimized LightGBM - Mean Absolute Error (MAE): {mae_lgb_optimized}\")\n",
    "    print(f\"Optimized LightGBM - Mean Squared Error (MSE): {mse_lgb_optimized}\")\n",
    "    print(f\"Optimized LightGBM - R-squared (R²): {r2_lgb_optimized}\")\n",
    "\n",
    "    return best_model, y_pred_lgb_optimized_actual"
   ]
  },
  {
   "cell_type": "markdown",
   "id": "aba588ce-3c8a-49eb-ba60-9195d05dab28",
   "metadata": {},
   "source": [
    "### model running"
   ]
  },
  {
   "cell_type": "code",
   "execution_count": 14,
   "id": "d2ae6383-c0ec-420c-a852-210a54e51825",
   "metadata": {},
   "outputs": [
    {
     "name": "stdout",
     "output_type": "stream",
     "text": [
      "Random Forest - Mean Absolute Error (MAE): 45510.72966288524\n",
      "Random Forest - Mean Squared Error (MSE): 3841553296.450196\n",
      "Random Forest - R-squared (R²): 0.2299433558359807\n",
      "Total Execution Time: 118.3298 seconds\n",
      "Total Training & Prediction Time: 118.3298 seconds\n",
      "[LightGBM] [Info] Auto-choosing row-wise multi-threading, the overhead of testing was 0.001883 seconds.\n",
      "You can set `force_row_wise=true` to remove the overhead.\n",
      "And if memory is not enough, you can set `force_col_wise=true`.\n",
      "[LightGBM] [Info] Total Bins 975\n",
      "[LightGBM] [Info] Number of data points in the train set: 93524, number of used features: 363\n",
      "[LightGBM] [Info] Start training from score 11.866904\n",
      "LightGBM - Mean Absolute Error (MAE): 45646.460180322676\n",
      "LightGBM - Mean Squared Error (MSE): 3882494924.14583\n",
      "LightGBM - R-squared (R²): 0.22173642233878155\n",
      "[LightGBM] [Info] Auto-choosing row-wise multi-threading, the overhead of testing was 0.001927 seconds.\n",
      "You can set `force_row_wise=true` to remove the overhead.\n",
      "And if memory is not enough, you can set `force_col_wise=true`.\n",
      "[LightGBM] [Info] Total Bins 975\n",
      "[LightGBM] [Info] Number of data points in the train set: 93524, number of used features: 363\n",
      "[LightGBM] [Info] Start training from score 11.866904\n",
      "Best parameters: {'learning_rate': 0.05, 'n_estimators': 300, 'num_leaves': 63}\n",
      "Optimized LightGBM - Mean Absolute Error (MAE): 45450.87687385408\n",
      "Optimized LightGBM - Mean Squared Error (MSE): 3846836301.4274573\n",
      "Optimized LightGBM - R-squared (R²): 0.22888435371627802\n"
     ]
    }
   ],
   "source": [
    "import numpy as np\n",
    "import pandas as pd\n",
    "from sklearn.ensemble import RandomForestRegressor\n",
    "import lightgbm as lgb\n",
    "from sklearn.metrics import mean_absolute_error, mean_squared_error, r2_score\n",
    "from sklearn.model_selection import GridSearchCV\n",
    "\n",
    "\n",
    "rf_model, y_pred_rf_actual,total_time  = train_random_forest(X_train_transformed, y_train, X_test_transformed, y_test)\n",
    "print(f\"Total Training & Prediction Time: {total_time:.4f} seconds\")\n",
    "lgb_model, y_pred_lgb_actual = train_lightgbm(X_train_transformed, y_train, X_test_transformed, y_test)\n",
    "lgb_model_optimized, y_pred_lgb_optimized_actual = train_optimized_lightgbm(X_train_transformed, y_train, X_test_transformed, y_test)"
   ]
  },
  {
   "cell_type": "code",
   "execution_count": 35,
   "id": "dc6a0ca8-00fe-4da0-974d-24af8aacfb25",
   "metadata": {},
   "outputs": [],
   "source": [
    "\n",
    "os.environ[\"OMP_NUM_THREADS\"] = \"3\"\n",
    "os.environ[\"MKL_NUM_THREADS\"] = \"3\"\n",
    "os.environ[\"OPENBLAS_NUM_THREADS\"] = \"3\"\n",
    "os.environ[\"NUMEXPR_NUM_THREADS\"] = \"3\"\n",
    "\n",
    "def train_linear_regression_3cpu(X_train, y_train, X_test, y_test):\n",
    "    start_time = time.time()\n",
    "    lr_model = LinearRegression(n_jobs=3)\n",
    "    lr_model.fit(X_train, y_train)\n",
    "\n",
    "    y_pred_lr = lr_model.predict(X_test)\n",
    "\n",
    "    print(\"Linear Regression predicted values - minimum:\", np.min(y_pred_lr))\n",
    "    print(\"Linear Regression predicted values - maximum:\", np.max(y_pred_lr))\n",
    "\n",
    "    y_pred_lr = np.clip(y_pred_lr, a_min=None, a_max=20) \n",
    "    end_time = time.time()\n",
    "    total_time = end_time - start_time\n",
    "\n",
    "    y_test_actual = np.expm1(y_test) \n",
    "    y_pred_lr_actual = np.expm1(y_pred_lr)  \n",
    "\n",
    "    mae_lr = mean_absolute_error(y_test_actual, y_pred_lr_actual)\n",
    "    mse_lr = mean_squared_error(y_test_actual, y_pred_lr_actual)\n",
    "    r2_lr = r2_score(y_test_actual, y_pred_lr_actual)\n",
    "\n",
    "    print(f\"Linear Regression - Mean Absolute Error (MAE): {mae_lr}\")\n",
    "    print(f\"Linear Regression - Mean Squared Error (MSE): {mse_lr}\")\n",
    "    print(f\"Linear Regression - R-squared (R²): {r2_lr}\")\n",
    "\n",
    "    return lr_model, y_pred_lr_actual,total_time"
   ]
  },
  {
   "cell_type": "code",
   "execution_count": 36,
   "id": "6111215a-373c-446b-ae81-6e56c4b0489e",
   "metadata": {},
   "outputs": [
    {
     "name": "stdout",
     "output_type": "stream",
     "text": [
      "Linear Regression predicted values - minimum: -230259568.1607445\n",
      "Linear Regression predicted values - maximum: 36728671.089651674\n",
      "Linear Regression - Mean Absolute Error (MAE): 647252.031633945\n",
      "Linear Regression - Mean Squared Error (MSE): 291799368889442.56\n",
      "Linear Regression - R-squared (R²): -58491.49650755067\n",
      "3 cpus Total Training & Prediction Time: 5.5880 seconds\n"
     ]
    }
   ],
   "source": [
    "from sklearn.linear_model import LinearRegression\n",
    "lr_model, y_pred_lr_actual,total_time_3cpu = train_linear_regression_3cpu(X_train_transformed, y_train, X_test_transformed, y_test)\n",
    "print(f\"3 cpus Total Training & Prediction Time: {total_time_3cpu:.4f} seconds\")"
   ]
  },
  {
   "cell_type": "code",
   "execution_count": 33,
   "id": "2b9f592a-d0a9-44e4-99b2-cda8e55bf4f8",
   "metadata": {},
   "outputs": [],
   "source": [
    "import os\n",
    "import time\n",
    "import numpy as np\n",
    "from sklearn.linear_model import LinearRegression\n",
    "from sklearn.metrics import mean_absolute_error, mean_squared_error, r2_score\n",
    "\n",
    "# only use one cpu\n",
    "os.environ[\"OMP_NUM_THREADS\"] = \"1\"\n",
    "os.environ[\"MKL_NUM_THREADS\"] = \"1\"\n",
    "os.environ[\"OPENBLAS_NUM_THREADS\"] = \"1\"\n",
    "os.environ[\"NUMEXPR_NUM_THREADS\"] = \"1\"\n",
    "\n",
    "def train_linear_regression(X_train, y_train, X_test, y_test):\n",
    "    start_time = time.time()\n",
    "    \n",
    "\n",
    "    lr_model = LinearRegression(n_jobs=1)  \n",
    "    lr_model.fit(X_train, y_train)\n",
    "\n",
    "    y_pred_lr = lr_model.predict(X_test)\n",
    "\n",
    "    print(\"Linear Regression predicted values - minimum:\", np.min(y_pred_lr))\n",
    "    print(\"Linear Regression predicted values - maximum:\", np.max(y_pred_lr))\n",
    "\n",
    "    y_pred_lr = np.clip(y_pred_lr, a_min=None, a_max=20)  \n",
    "    end_time = time.time()\n",
    "    total_time = end_time - start_time\n",
    "\n",
    "    y_test_actual = np.expm1(y_test)  \n",
    "    y_pred_lr_actual = np.expm1(y_pred_lr)  \n",
    "\n",
    "    mae_lr = mean_absolute_error(y_test_actual, y_pred_lr_actual)\n",
    "    mse_lr = mean_squared_error(y_test_actual, y_pred_lr_actual)\n",
    "    r2_lr = r2_score(y_test_actual, y_pred_lr_actual)\n",
    "\n",
    "    print(f\"Linear Regression - Mean Absolute Error (MAE): {mae_lr}\")\n",
    "    print(f\"Linear Regression - Mean Squared Error (MSE): {mse_lr}\")\n",
    "    print(f\"Linear Regression - R-squared (R²): {r2_lr}\")\n",
    "\n",
    "    return lr_model, y_pred_lr_actual, total_time\n"
   ]
  },
  {
   "cell_type": "code",
   "execution_count": 34,
   "id": "66cf8935-9226-46c1-998b-c8ce9a47ad0b",
   "metadata": {},
   "outputs": [
    {
     "name": "stdout",
     "output_type": "stream",
     "text": [
      "Linear Regression predicted values - minimum: -230259568.1607445\n",
      "Linear Regression predicted values - maximum: 36728671.089651674\n",
      "Linear Regression - Mean Absolute Error (MAE): 647252.031633945\n",
      "Linear Regression - Mean Squared Error (MSE): 291799368889442.56\n",
      "Linear Regression - R-squared (R²): -58491.49650755067\n",
      "1 cpu Total Training & Prediction Time: 5.5920 seconds\n"
     ]
    }
   ],
   "source": [
    "\n",
    "lr_model, y_pred_lr_actual,total_time_1_cpu = train_linear_regression(X_train_transformed, y_train, X_test_transformed, y_test)\n",
    "print(f\"1 cpu Total Training & Prediction Time: {total_time_1_cpu:.4f} seconds\")"
   ]
  },
  {
   "cell_type": "code",
   "execution_count": null,
   "id": "d830f7a4-a2e0-46ef-a845-7bab83b5683e",
   "metadata": {},
   "outputs": [],
   "source": []
  },
  {
   "cell_type": "markdown",
   "id": "564ae2cd-580a-43a0-adf3-4068b264aa35",
   "metadata": {},
   "source": [
    "### Visualisierung"
   ]
  },
  {
   "cell_type": "code",
   "execution_count": 19,
   "id": "024ff38a-db60-4b6e-9995-588b8f4ed288",
   "metadata": {},
   "outputs": [
    {
     "name": "stderr",
     "output_type": "stream",
     "text": [
      "D:\\Anaconda\\envs\\pytorch\\Lib\\site-packages\\seaborn\\_oldcore.py:1119: FutureWarning: use_inf_as_na option is deprecated and will be removed in a future version. Convert inf values to NaN before operating instead.\n",
      "  with pd.option_context('mode.use_inf_as_na', True):\n",
      "D:\\Anaconda\\envs\\pytorch\\Lib\\site-packages\\seaborn\\_oldcore.py:1119: FutureWarning: use_inf_as_na option is deprecated and will be removed in a future version. Convert inf values to NaN before operating instead.\n",
      "  with pd.option_context('mode.use_inf_as_na', True):\n"
     ]
    },
    {
     "data": {
      "image/png": "[encoded data removed]",
      "text/plain": [
       "<Figure size 1200x600 with 1 Axes>"
      ]
     },
     "metadata": {},
     "output_type": "display_data"
    }
   ],
   "source": [
    "import matplotlib.pyplot as plt\n",
    "import seaborn as sns\n",
    "y_test_actual = np.expm1(y_test)\n",
    "\n",
    "results_df = pd.DataFrame({\n",
    "    \"Actual\": y_test_actual,\n",
    "    \"Random Forest\": y_pred_rf_actual,\n",
    "    \"LightGBM\": y_pred_lgb_actual,\n",
    "    \"Optimized LightGBM\": y_pred_lgb_optimized_actual,\n",
    "    \"Linear Regression\": y_pred_lr_actual  \n",
    "})\n",
    "\n",
    "\n",
    "results_df[\"work_year\"] = X_test[\"work_year\"].reset_index(drop=True)\n",
    "average_salary_by_year = results_df.groupby(\"work_year\").mean()\n",
    "\n",
    "plt.figure(figsize=(12, 6))\n",
    "sns.lineplot(data=average_salary_by_year, markers=True, dashes=False)\n",
    "plt.title(\"Average Salary Trends by Year\")\n",
    "plt.xlabel(\"Work Year\")\n",
    "plt.ylabel(\"Average Salary (USD)\")\n",
    "plt.legend(title=\"Model\")\n",
    "plt.show()"
   ]
  },
  {
   "cell_type": "code",
   "execution_count": null,
   "id": "2c22411e-c81d-41ab-862a-af5a96e501ca",
   "metadata": {},
   "outputs": [],
   "source": []
  },
  {
   "cell_type": "code",
   "execution_count": null,
   "id": "e9124f09-62ce-4415-875b-ef9de610032c",
   "metadata": {},
   "outputs": [],
   "source": []
  }
 ],
 "metadata": {
  "kernelspec": {
   "display_name": "Python 3 (ipykernel)",
   "language": "python",
   "name": "python3"
  },
  "language_info": {
   "codemirror_mode": {
    "name": "ipython",
    "version": 3
   },
   "file_extension": ".py",
   "mimetype": "text/x-python",
   "name": "python",
   "nbconvert_exporter": "python",
   "pygments_lexer": "ipython3",
   "version": "3.11.9"
  }
 },
 "nbformat": 4,
 "nbformat_minor": 5
}
