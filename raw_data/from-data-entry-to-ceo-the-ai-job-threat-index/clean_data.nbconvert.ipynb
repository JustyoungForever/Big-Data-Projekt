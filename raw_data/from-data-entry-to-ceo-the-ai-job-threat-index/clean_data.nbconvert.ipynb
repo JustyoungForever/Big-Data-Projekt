{
 "cells": [
  {
   "cell_type": "code",
   "execution_count": 1,
   "id": "7759cb03-7fe4-4e32-a05e-fe2652da5b96",
   "metadata": {
    "execution": {
     "iopub.execute_input": "2025-01-19T01:18:25.656165Z",
     "iopub.status.busy": "2025-01-19T01:18:25.655827Z",
     "iopub.status.idle": "2025-01-19T01:18:25.944364Z",
     "shell.execute_reply": "2025-01-19T01:18:25.943558Z"
    }
   },
   "outputs": [],
   "source": [
    "import pandas as pd\n",
    "\n",
    "# 读取数据\n",
    "file_path = \"./My_Data.csv\"  # 替换为你的 CSV 文件路径\n",
    "df = pd.read_csv(file_path, encoding=\"utf-8\", low_memory=False)\n",
    "\n",
    "# 1️⃣ 修正列名（去空格 & 统一命名格式）\n",
    "df.columns = [\"Job_Title\", \"AI_Impact\", \"Tasks\", \"AI_Models\", \"AI_Workload_Ratio\", \"Domain\"]\n",
    "\n",
    "# 2️⃣ 处理 AI_Impact（转换百分比）\n",
    "df[\"AI_Impact\"] = df[\"AI_Impact\"].str.rstrip('%').astype(float) / 100  # 转换为 0~1 之间的 float 值\n",
    "\n",
    "# 3️⃣ 清理 Job_Title（职位名称）\n",
    "df[\"Job_Title\"] = df[\"Job_Title\"].str.title().str.strip()  # 统一首字母大写 & 去空格\n",
    "\n",
    "# 4️⃣ 统一 Domain（领域分类）\n",
    "df[\"Domain\"] = df[\"Domain\"].str.title().str.strip()\n",
    "\n",
    "# 5️⃣ 确保数值字段正确\n",
    "df[\"Tasks\"] = pd.to_numeric(df[\"Tasks\"], errors=\"coerce\").astype(\"Int64\")\n",
    "df[\"AI_Models\"] = pd.to_numeric(df[\"AI_Models\"], errors=\"coerce\").astype(\"Int64\")\n",
    "df[\"AI_Workload_Ratio\"] = pd.to_numeric(df[\"AI_Workload_Ratio\"], errors=\"coerce\")\n",
    "\n",
    "# 6️⃣ 处理缺失值（如果存在）\n",
    "df = df.dropna()  # 直接删除缺失值\n",
    "# 或者可以填充：\n",
    "# df[\"Domain\"].fillna(\"Unknown\", inplace=True)\n",
    "\n",
    "# # 7️⃣ 保存清理后的数据\n",
    "# cleaned_file_path = \"./ai_job_threat_index.csv\"\n",
    "# df.to_csv(cleaned_file_path, index=False, encoding=\"utf-8\")\n",
    "\n",
    "# print(f\"✅ 数据清理完成，文件已保存至 {cleaned_file_path}\")\n",
    "\n"
   ]
  },
  {
   "cell_type": "code",
   "execution_count": 2,
   "id": "1a50c3c9-8c2b-4475-80d1-3e92fc08f0e6",
   "metadata": {
    "execution": {
     "iopub.execute_input": "2025-01-19T01:18:25.947450Z",
     "iopub.status.busy": "2025-01-19T01:18:25.947047Z",
     "iopub.status.idle": "2025-01-19T01:18:25.980704Z",
     "shell.execute_reply": "2025-01-19T01:18:25.979954Z"
    }
   },
   "outputs": [
    {
     "name": "stdout",
     "output_type": "stream",
     "text": [
      "✅ 数据清理完成，文件已保存至 /mnt/g/Nextcloud/FSU_Cloud/Big Data/Projekt/cleaned_data/ai_job_threat_index.csv\n",
      "<class 'pandas.core.frame.DataFrame'>\n",
      "RangeIndex: 4706 entries, 0 to 4705\n",
      "Data columns (total 6 columns):\n",
      " #   Column             Non-Null Count  Dtype  \n",
      "---  ------             --------------  -----  \n",
      " 0   Job_Title          4706 non-null   object \n",
      " 1   AI_Impact          4706 non-null   float64\n",
      " 2   Tasks              4706 non-null   Int64  \n",
      " 3   AI_Models          4706 non-null   Int64  \n",
      " 4   AI_Workload_Ratio  4706 non-null   float64\n",
      " 5   Domain             4706 non-null   object \n",
      "dtypes: Int64(2), float64(2), object(2)\n",
      "memory usage: 229.9+ KB\n",
      "None\n",
      "                Job_Title  AI_Impact  Tasks  AI_Models  AI_Workload_Ratio  \\\n",
      "0  Communications Manager       0.98    365       2546           0.143362   \n",
      "1          Data Collector       0.95    299       2148           0.139199   \n",
      "2              Data Entry       0.95    325       2278           0.142669   \n",
      "3              Mail Clerk       0.95    193       1366           0.141288   \n",
      "4      Compliance Officer       0.92    194       1369           0.141709   \n",
      "\n",
      "                      Domain  \n",
      "0         Communication & Pr  \n",
      "1                  Data & It  \n",
      "2  Administrative & Clerical  \n",
      "3      Leadership & Strategy  \n",
      "4       Medical & Healthcare  \n"
     ]
    }
   ],
   "source": [
    "import os\n",
    "\n",
    "# 获取当前 Notebook (`clean_data.ipynb`) 所在目录\n",
    "current_dir = os.getcwd()\n",
    "\n",
    "# 获取 `Projekt` 根目录（即 `raw_data` 的上一级目录）\n",
    "projekt_root = os.path.abspath(os.path.join(current_dir, \"..\", \"..\"))\n",
    "\n",
    "# 定义 `cleaned_data` 目录的正确路径\n",
    "cleaned_data_dir = os.path.join(projekt_root, \"cleaned_data\")\n",
    "\n",
    "# 确保 `cleaned_data` 目录存在\n",
    "os.makedirs(cleaned_data_dir, exist_ok=True)\n",
    "\n",
    "# 生成新的文件路径\n",
    "cleaned_file_path = os.path.join(cleaned_data_dir, \"ai_job_threat_index.csv\")\n",
    "\n",
    "# 保存文件到 `Projekt/cleaned_data`\n",
    "df.to_csv(cleaned_file_path, index=False, encoding=\"utf-8\")\n",
    "print(f\"✅ 数据清理完成，文件已保存至 {cleaned_file_path}\")\n",
    "\n",
    "# 8️⃣ 预览清理后的数据\n",
    "print(df.info())\n",
    "print(df.head())\n"
   ]
  },
  {
   "cell_type": "code",
   "execution_count": null,
   "id": "fc4e38e3-d090-41c9-8635-3ea4d15a3991",
   "metadata": {},
   "outputs": [],
   "source": []
  }
 ],
 "metadata": {
  "kernelspec": {
   "display_name": "Python 3 (ipykernel)",
   "language": "python",
   "name": "python3"
  },
  "language_info": {
   "codemirror_mode": {
    "name": "ipython",
    "version": 3
   },
   "file_extension": ".py",
   "mimetype": "text/x-python",
   "name": "python",
   "nbconvert_exporter": "python",
   "pygments_lexer": "ipython3",
   "version": "3.10.12"
  }
 },
 "nbformat": 4,
 "nbformat_minor": 5
}
