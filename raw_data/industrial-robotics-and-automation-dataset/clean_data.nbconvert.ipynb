{
 "cells": [
  {
   "cell_type": "code",
   "execution_count": 1,
   "id": "c83bdfa6-b5fe-4f3c-bd54-0d4aff1b02a9",
   "metadata": {
    "execution": {
     "iopub.execute_input": "2025-01-19T01:18:28.271067Z",
     "iopub.status.busy": "2025-01-19T01:18:28.270723Z",
     "iopub.status.idle": "2025-01-19T01:18:28.546430Z",
     "shell.execute_reply": "2025-01-19T01:18:28.545544Z"
    }
   },
   "outputs": [],
   "source": [
    "import pandas as pd\n",
    "\n",
    "# 读取数据\n",
    "file_path = \"./robotics_data.csv\"  # 替换为你的 CSV 文件路径\n",
    "df = pd.read_csv(file_path, encoding=\"utf-8\", low_memory=False)\n",
    "\n",
    "# 1️⃣ 标准化列名（移除 `_`，改为 PascalCase）\n",
    "df.columns = [\"Year\", \"Industry\", \"RobotsAdopted\", \"ProductivityGain\", \"CostSavings\", \"JobsDisplaced\", \"TrainingHours\"]\n",
    "\n",
    "# 2️⃣ 统一 Industry 格式\n",
    "df[\"Industry\"] = df[\"Industry\"].str.title().str.strip()\n",
    "\n",
    "# 3️⃣ 确保数值字段的正确性\n",
    "df[\"Year\"] = pd.to_numeric(df[\"Year\"], errors=\"coerce\").astype(\"Int64\")\n",
    "df[\"RobotsAdopted\"] = pd.to_numeric(df[\"RobotsAdopted\"], errors=\"coerce\").astype(\"Int64\")\n",
    "df[\"JobsDisplaced\"] = pd.to_numeric(df[\"JobsDisplaced\"], errors=\"coerce\").astype(\"Int64\")\n",
    "df[\"TrainingHours\"] = pd.to_numeric(df[\"TrainingHours\"], errors=\"coerce\").astype(\"Int64\")\n",
    "\n",
    "# 4️⃣ 处理 ProductivityGain & CostSavings\n",
    "df[\"ProductivityGain\"] = df[\"ProductivityGain\"].round(2)  # 保留 2 位小数\n",
    "df[\"CostSavings\"] = df[\"CostSavings\"].round(2)  # 保留 2 位小数\n",
    "\n",
    "# 5️⃣ 处理缺失值（如果有）\n",
    "df = df.dropna()  # 删除缺失值\n",
    "# 或者用行业均值填充\n",
    "# df[\"ProductivityGain\"].fillna(df.groupby(\"Industry\")[\"ProductivityGain\"].transform(\"mean\"), inplace=True)\n",
    "\n",
    "# # 6️⃣ 保存清理后的数据\n",
    "# cleaned_file_path = \"./cleaned_robotics_data.csv\"\n",
    "# df.to_csv(cleaned_file_path, index=False, encoding=\"utf-8\")\n",
    "\n",
    "# print(f\"✅ 数据清理完成，文件已保存至 {cleaned_file_path}\")\n",
    "\n",
    "# # 7️⃣ 预览清理后的数据\n",
    "# print(df.info())\n",
    "# print(df.head())\n"
   ]
  },
  {
   "cell_type": "code",
   "execution_count": 2,
   "id": "6c18e198-03a9-441e-a031-84f9b8522613",
   "metadata": {
    "execution": {
     "iopub.execute_input": "2025-01-19T01:18:28.549228Z",
     "iopub.status.busy": "2025-01-19T01:18:28.548845Z",
     "iopub.status.idle": "2025-01-19T01:18:28.566507Z",
     "shell.execute_reply": "2025-01-19T01:18:28.565673Z"
    }
   },
   "outputs": [
    {
     "name": "stdout",
     "output_type": "stream",
     "text": [
      "✅ 数据清理完成，文件已保存至 /mnt/g/Nextcloud/FSU_Cloud/Big Data/Projekt/cleaned_data/cleaned_robotics_data.csv\n",
      "<class 'pandas.core.frame.DataFrame'>\n",
      "RangeIndex: 27 entries, 0 to 26\n",
      "Data columns (total 7 columns):\n",
      " #   Column            Non-Null Count  Dtype  \n",
      "---  ------            --------------  -----  \n",
      " 0   Year              27 non-null     Int64  \n",
      " 1   Industry          27 non-null     object \n",
      " 2   RobotsAdopted     27 non-null     Int64  \n",
      " 3   ProductivityGain  27 non-null     float64\n",
      " 4   CostSavings       27 non-null     float64\n",
      " 5   JobsDisplaced     27 non-null     Int64  \n",
      " 6   TrainingHours     27 non-null     Int64  \n",
      "dtypes: Int64(4), float64(2), object(1)\n",
      "memory usage: 1.7+ KB\n",
      "None\n",
      "   Year       Industry  RobotsAdopted  ProductivityGain  CostSavings  \\\n",
      "0  2015  Manufacturing            107              7.86       170.67   \n",
      "1  2015     Healthcare            484             24.77       120.19   \n",
      "2  2015      Logistics            263             20.74       152.53   \n",
      "3  2016  Manufacturing            253             16.99       195.43   \n",
      "4  2016     Healthcare            445             11.00        81.85   \n",
      "\n",
      "   JobsDisplaced  TrainingHours  \n",
      "0            293            161  \n",
      "1            819            239  \n",
      "2            743             69  \n",
      "3            366            472  \n",
      "4            100            299  \n"
     ]
    }
   ],
   "source": [
    "import os\n",
    "\n",
    "# 获取当前 Notebook (`clean_data.ipynb`) 所在目录\n",
    "current_dir = os.getcwd()\n",
    "\n",
    "# 获取 `Projekt` 根目录（即 `raw_data` 的上一级目录）\n",
    "projekt_root = os.path.abspath(os.path.join(current_dir, \"..\", \"..\"))\n",
    "\n",
    "# 定义 `cleaned_data` 目录的正确路径\n",
    "cleaned_data_dir = os.path.join(projekt_root, \"cleaned_data\")\n",
    "\n",
    "# 确保 `cleaned_data` 目录存在\n",
    "os.makedirs(cleaned_data_dir, exist_ok=True)\n",
    "\n",
    "# 生成新的文件路径\n",
    "cleaned_file_path = os.path.join(cleaned_data_dir, \"cleaned_robotics_data.csv\")\n",
    "\n",
    "# 保存文件到 `Projekt/cleaned_data`\n",
    "df.to_csv(cleaned_file_path, index=False, encoding=\"utf-8\")\n",
    "print(f\"✅ 数据清理完成，文件已保存至 {cleaned_file_path}\")\n",
    "\n",
    "# 8️⃣ 预览清理后的数据\n",
    "print(df.info())\n",
    "print(df.head())\n"
   ]
  }
 ],
 "metadata": {
  "kernelspec": {
   "display_name": "Python 3 (ipykernel)",
   "language": "python",
   "name": "python3"
  },
  "language_info": {
   "codemirror_mode": {
    "name": "ipython",
    "version": 3
   },
   "file_extension": ".py",
   "mimetype": "text/x-python",
   "name": "python",
   "nbconvert_exporter": "python",
   "pygments_lexer": "ipython3",
   "version": "3.10.12"
  }
 },
 "nbformat": 4,
 "nbformat_minor": 5
}
