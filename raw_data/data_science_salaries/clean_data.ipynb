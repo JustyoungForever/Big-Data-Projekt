{
 "cells": [
  {
   "cell_type": "code",
   "execution_count": 1,
   "id": "5ac47ec5-8042-46c6-8e7a-6c0dc405cea9",
   "metadata": {},
   "outputs": [
    {
     "name": "stdout",
     "output_type": "stream",
     "text": [
      "<class 'pandas.core.frame.DataFrame'>\n",
      "RangeIndex: 6599 entries, 0 to 6598\n",
      "Data columns (total 11 columns):\n",
      " #   Column              Non-Null Count  Dtype \n",
      "---  ------              --------------  ----- \n",
      " 0   job_title           6599 non-null   object\n",
      " 1   experience_level    6599 non-null   object\n",
      " 2   employment_type     6599 non-null   object\n",
      " 3   work_models         6599 non-null   object\n",
      " 4   work_year           6599 non-null   int64 \n",
      " 5   employee_residence  6599 non-null   object\n",
      " 6   salary              6599 non-null   int64 \n",
      " 7   salary_currency     6599 non-null   object\n",
      " 8   salary_in_usd       6599 non-null   int64 \n",
      " 9   company_location    6599 non-null   object\n",
      " 10  company_size        6599 non-null   object\n",
      "dtypes: int64(3), object(8)\n",
      "memory usage: 567.2+ KB\n",
      "None\n",
      "        job_title experience_level employment_type work_models  work_year  \\\n",
      "0   Data Engineer        Mid-level       Full-time      Remote       2024   \n",
      "1   Data Engineer        Mid-level       Full-time      Remote       2024   \n",
      "2  Data Scientist     Senior-level       Full-time      Remote       2024   \n",
      "3  Data Scientist     Senior-level       Full-time      Remote       2024   \n",
      "4    BI Developer        Mid-level       Full-time     On-site       2024   \n",
      "\n",
      "  employee_residence  salary salary_currency  salary_in_usd company_location  \\\n",
      "0      United States  148100             USD         148100    United States   \n",
      "1      United States   98700             USD          98700    United States   \n",
      "2      United States  140032             USD         140032    United States   \n",
      "3      United States  100022             USD         100022    United States   \n",
      "4      United States  120000             USD         120000    United States   \n",
      "\n",
      "  company_size  \n",
      "0       Medium  \n",
      "1       Medium  \n",
      "2       Medium  \n",
      "3       Medium  \n",
      "4       Medium  \n"
     ]
    }
   ],
   "source": [
    "import pandas as pd\n",
    "import re\n",
    "# 读取 CSV 文件\n",
    "file_path = \"./data_science_salaries.csv\"  # 替换为你的 CSV 文件路径\n",
    "\n",
    "df = pd.read_csv(file_path, encoding=\"utf-8\", low_memory=False)\n",
    "\n",
    "print(df.info())\n",
    "print(df.head())"
   ]
  },
  {
   "cell_type": "code",
   "execution_count": 2,
   "id": "fba630a1-668b-47c1-b0fc-b9c063c7fd4e",
   "metadata": {},
   "outputs": [],
   "source": [
    "# 1️⃣ 处理缺失值（如果存在）\n",
    "df = df.dropna()  # 直接删除缺失值（如果数据较少）"
   ]
  },
  {
   "cell_type": "code",
   "execution_count": 3,
   "id": "39def922-f126-45ad-9d22-d6357ce74840",
   "metadata": {},
   "outputs": [],
   "source": [
    "# 2️⃣ 统一经验级别 experience_level\n",
    "df[\"experience_level\"] = df[\"experience_level\"].str.lower().str.strip()\n",
    "\n",
    "# 3️⃣ 统一雇佣类型 employment_type\n",
    "df[\"employment_type\"] = df[\"employment_type\"].str.lower().str.strip()\n",
    "\n",
    "# 4️⃣ 统一工作模式 work_models\n",
    "df[\"work_models\"] = df[\"work_models\"].str.lower().str.strip()"
   ]
  },
  {
   "cell_type": "code",
   "execution_count": 4,
   "id": "bd07ef79-628e-447e-8c08-df139dc147f0",
   "metadata": {},
   "outputs": [],
   "source": [
    "# 5️⃣ 转换 `work_year` 为整数\n",
    "df[\"work_year\"] = pd.to_numeric(df[\"work_year\"], errors=\"coerce\")\n",
    "\n",
    "# 6️⃣ 处理 `salary` 相关字段\n",
    "df[\"salary\"] = pd.to_numeric(df[\"salary\"], errors=\"coerce\")  # 确保是数值类型\n",
    "df[\"salary_in_usd\"] = pd.to_numeric(df[\"salary_in_usd\"], errors=\"coerce\")  # 确保是数值类型\n"
   ]
  },
  {
   "cell_type": "code",
   "execution_count": 5,
   "id": "c24fb700-0c80-4cfe-a006-3cab1dc752f2",
   "metadata": {},
   "outputs": [],
   "source": [
    "# 7️⃣ 标准化 `company_size`\n",
    "df[\"company_size\"] = df[\"company_size\"].str.lower().str.strip()"
   ]
  },
  {
   "cell_type": "code",
   "execution_count": 6,
   "id": "765c1f01-075f-45e3-8f49-912f9bbe4780",
   "metadata": {},
   "outputs": [],
   "source": [
    "# 8️⃣ 标准化 `company_location` & `employee_residence`\n",
    "df[\"company_location\"] = df[\"company_location\"].str.title().str.strip()  # 首字母大写\n",
    "df[\"employee_residence\"] = df[\"employee_residence\"].str.title().str.strip()  # 首字母大写\n"
   ]
  },
  {
   "cell_type": "code",
   "execution_count": 7,
   "id": "81d4726e-494d-4058-b33b-12fe9d71d20c",
   "metadata": {},
   "outputs": [],
   "source": [
    "# 9️⃣ 确保数据类型正确\n",
    "df = df.astype({\n",
    "    \"experience_level\": \"category\",\n",
    "    \"employment_type\": \"category\",\n",
    "    \"work_models\": \"category\",\n",
    "    \"company_size\": \"category\",\n",
    "    \"work_year\": \"int64\",\n",
    "    \"salary\": \"int64\",\n",
    "    \"salary_in_usd\": \"int64\"\n",
    "})"
   ]
  },
  {
   "cell_type": "code",
   "execution_count": 8,
   "id": "9e9b5863-7225-4b58-ae45-c4af061292cc",
   "metadata": {},
   "outputs": [
    {
     "name": "stdout",
     "output_type": "stream",
     "text": [
      "✅ 数据清理完成，文件已保存至 G:\\Nextcloud\\FSU_Cloud\\Big Data\\Projekt\\cleaned_data\\cleaned_data_science_salaries.csv\n"
     ]
    }
   ],
   "source": [
    "import os\n",
    "\n",
    "# 获取当前 Notebook (`clean_data.ipynb`) 所在目录\n",
    "current_dir = os.getcwd()\n",
    "\n",
    "# 获取 `Projekt` 根目录（即 `raw_data` 的上一级目录）\n",
    "projekt_root = os.path.abspath(os.path.join(current_dir, \"..\", \"..\"))\n",
    "\n",
    "# 定义 `cleaned_data` 目录的正确路径\n",
    "cleaned_data_dir = os.path.join(projekt_root, \"cleaned_data\")\n",
    "\n",
    "# 确保 `cleaned_data` 目录存在\n",
    "os.makedirs(cleaned_data_dir, exist_ok=True)\n",
    "\n",
    "# 生成新的文件路径\n",
    "cleaned_file_path = os.path.join(cleaned_data_dir, \"cleaned_data_science_salaries.csv\")\n",
    "\n",
    "# 保存文件到 `Projekt/cleaned_data`\n",
    "df.to_csv(cleaned_file_path, index=False, encoding=\"utf-8\")\n",
    "print(f\"✅ 数据清理完成，文件已保存至 {cleaned_file_path}\")"
   ]
  },
  {
   "cell_type": "code",
   "execution_count": 9,
   "id": "79f7f525-4659-4148-b52e-e61986e0f952",
   "metadata": {},
   "outputs": [],
   "source": [
    "# # 🔟 保存清理后的数据\n",
    "# cleaned_file_path = \"./cleaned_data_science_salaries.csv\"\n",
    "# df.to_csv(cleaned_file_path, index=False, encoding=\"utf-8\")\n",
    "\n",
    "# print(f\"✅ 数据清理完成，文件已保存至 {cleaned_file_path}\")\n",
    "\n",
    "# # 🔍 预览清理后的数据\n",
    "# print(df.info())\n",
    "# print(df.head())"
   ]
  },
  {
   "cell_type": "code",
   "execution_count": null,
   "id": "bf327806-8c4e-4de4-9ab3-ccc9403b65f3",
   "metadata": {},
   "outputs": [],
   "source": []
  }
 ],
 "metadata": {
  "kernelspec": {
   "display_name": "Python 3 (ipykernel)",
   "language": "python",
   "name": "python3"
  },
  "language_info": {
   "codemirror_mode": {
    "name": "ipython",
    "version": 3
   },
   "file_extension": ".py",
   "mimetype": "text/x-python",
   "name": "python",
   "nbconvert_exporter": "python",
   "pygments_lexer": "ipython3",
   "version": "3.11.9"
  }
 },
 "nbformat": 4,
 "nbformat_minor": 5
}
