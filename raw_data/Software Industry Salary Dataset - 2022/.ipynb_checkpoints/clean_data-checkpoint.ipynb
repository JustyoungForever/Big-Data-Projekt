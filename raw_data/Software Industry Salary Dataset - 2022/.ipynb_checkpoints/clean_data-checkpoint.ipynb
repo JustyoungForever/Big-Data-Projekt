{
 "cells": [
  {
   "cell_type": "code",
   "execution_count": 1,
   "id": "37e1f9fb-8d3e-4c16-9fe5-3f006231ae0b",
   "metadata": {},
   "outputs": [
    {
     "name": "stdout",
     "output_type": "stream",
     "text": [
      "Columns in df_salary: ['Rating', 'Company Name', 'Job Title', 'Salary', 'Salaries Reported', 'Location', 'Employment Status', 'Job Roles']\n",
      "Columns in df_software: ['Rating', 'Company Name', 'Job Title', 'Salary', 'Salaries Reported', 'Location']\n"
     ]
    }
   ],
   "source": [
    "import pandas as pd\n",
    "import numpy as np\n",
    "import re\n",
    "\n",
    "# ✅ 1️⃣ 读取数据\n",
    "job_profiles_file = \"./Types of Different Job Profiles.txt\"\n",
    "salary_dataset_file = \"./Salary_Dataset_with_Extra_Features.csv\"\n",
    "software_salaries_file = \"./Software_Professional_Salaries.csv\"\n",
    "\n",
    "# 读取职位名称标准库\n",
    "with open(job_profiles_file, \"r\", encoding=\"utf-8\") as f:\n",
    "    job_titles = set(line.strip().lower() for line in f if line.strip())\n",
    "\n",
    "# 读取 CSV 数据\n",
    "df_salary = pd.read_csv(salary_dataset_file, encoding=\"utf-8\")\n",
    "df_software = pd.read_csv(software_salaries_file, encoding=\"utf-8\")\n",
    "\n",
    "# 🔍 打印列名\n",
    "print(\"Columns in df_salary:\", df_salary.columns.tolist())\n",
    "print(\"Columns in df_software:\", df_software.columns.tolist())"
   ]
  },
  {
   "cell_type": "code",
   "execution_count": 2,
   "id": "b901ec11-5b4a-4850-8f46-2b82ac2acaa2",
   "metadata": {},
   "outputs": [],
   "source": [
    "df_salary.columns = df_salary.columns.str.lower().str.strip().str.replace(\" \", \"_\")\n",
    "df_software.columns = df_software.columns.str.lower().str.strip().str.replace(\" \", \"_\")"
   ]
  },
  {
   "cell_type": "code",
   "execution_count": 3,
   "id": "d556e530-8065-4082-bac4-250711072efb",
   "metadata": {},
   "outputs": [],
   "source": [
    "\n",
    "\n",
    "# ✅ 3️⃣ 标准化职位名称（匹配 `Types of Different Job Profiles.txt`）\n",
    "def standardize_job_title(title):\n",
    "    \"\"\"匹配职位名称，使其标准化\"\"\"\n",
    "    title = title.lower().strip()\n",
    "    for job in job_titles:\n",
    "        if job in title:\n",
    "            return job.title()  # 统一格式\n",
    "    return title.title()  # 无匹配时，首字母大写\n",
    "\n",
    "df_salary[\"job_title\"] = df_salary[\"job_title\"].apply(standardize_job_title)\n",
    "df_software[\"job_title\"] = df_software[\"job_title\"].apply(standardize_job_title)\n",
    "\n",
    "# ✅ 4️⃣ 添加默认货币（假设所有工资均为 USD）\n",
    "df_salary[\"salary_currency\"] = \"USD\"\n",
    "df_software[\"salary_currency\"] = \"USD\"\n"
   ]
  },
  {
   "cell_type": "code",
   "execution_count": 4,
   "id": "68012fcf-ce94-4a34-93a2-fed05e520bd0",
   "metadata": {},
   "outputs": [],
   "source": [
    "# ✅ 确保 `salary_currency` 反映真实情况（所有工资默认是 INR）\n",
    "df_salary[\"salary_currency\"] = \"INR\"\n",
    "df_software[\"salary_currency\"] = \"INR\"\n",
    "# ✅ 统一工资单位（INR → USD）\n",
    "def convert_salary_to_usd(row):\n",
    "    conversion_rates = {\"INR\": 0.012}  # 1 INR ≈ 0.012 USD\n",
    "    return row[\"salary\"] * conversion_rates.get(row[\"salary_currency\"], 1)\n",
    "\n",
    "df_salary[\"salary_usd\"] = df_salary.apply(convert_salary_to_usd, axis=1)\n",
    "df_software[\"salary_usd\"] = df_software.apply(convert_salary_to_usd, axis=1)\n",
    "\n",
    "# ✅ 6️⃣ 处理异常工资数据（去掉极端值）\n",
    "q1, q3 = df_salary[\"salary_usd\"].quantile([0.05, 0.95])\n",
    "df_salary = df_salary[(df_salary[\"salary_usd\"] >= q1) & (df_salary[\"salary_usd\"] <= q3)]\n",
    "\n",
    "q1, q3 = df_software[\"salary_usd\"].quantile([0.05, 0.95])\n",
    "df_software = df_software[(df_software[\"salary_usd\"] >= q1) & (df_software[\"salary_usd\"] <= q3)]\n",
    "\n",
    "# ✅ 解决 `SettingWithCopyWarning`\n",
    "df_salary = df_salary.copy()\n",
    "df_software = df_software.copy()\n",
    "\n",
    "df_salary.loc[:, \"salary_usd\"] = df_salary.apply(convert_salary_to_usd, axis=1)\n",
    "df_software.loc[:, \"salary_usd\"] = df_software.apply(convert_salary_to_usd, axis=1)\n"
   ]
  },
  {
   "cell_type": "code",
   "execution_count": 5,
   "id": "50bb4273-6e09-4aa5-8af8-849c4f37cc34",
   "metadata": {},
   "outputs": [],
   "source": [
    "\n",
    "\n",
    "# ✅ 1️⃣1️⃣ 合并两个数据集\n",
    "df_combined = pd.concat([df_salary, df_software], ignore_index=True)\n",
    "\n",
    "# # ✅ 1️⃣2️⃣ 导出清理后的数据\n",
    "# cleaned_file_path = \"./cleaned_combined_salaries.csv\"\n",
    "# df_combined.to_csv(cleaned_file_path, index=False, encoding=\"utf-8\")\n",
    "\n",
    "# print(f\"✅ 数据清理完成，文件已保存至 {cleaned_file_path}\")\n",
    "\n",
    "# # ✅ 1️⃣3️⃣ 预览数据\n",
    "# display(df_combined.head())  # 在 Jupyter Notebook 显示数据\n",
    "# print(df_combined.info())  # 显示 DataFrame 结构\n",
    "\n",
    "# # ✅ 导出 CSV 文件\n",
    "# cleaned_file_path = \"cleaned_combined_salaries.csv\"\n",
    "# df_combined.to_csv(cleaned_file_path, index=False, encoding=\"utf-8\")\n",
    "# print(f\"✅ 数据清理完成，文件已保存至 {cleaned_file_path}\")\n"
   ]
  },
  {
   "cell_type": "code",
   "execution_count": 6,
   "id": "54ee787e-b17d-4755-a124-ab2be488056e",
   "metadata": {},
   "outputs": [
    {
     "name": "stdout",
     "output_type": "stream",
     "text": [
      "✅ 数据清理完成，文件已保存至 G:\\Nextcloud\\FSU_Cloud\\Big Data\\Projekt\\cleaned_data\\cleaned_combined_salaries.csv\n",
      "<class 'pandas.core.frame.DataFrame'>\n",
      "RangeIndex: 41498 entries, 0 to 41497\n",
      "Data columns (total 10 columns):\n",
      " #   Column             Non-Null Count  Dtype  \n",
      "---  ------             --------------  -----  \n",
      " 0   rating             41498 non-null  float64\n",
      " 1   company_name       41496 non-null  object \n",
      " 2   job_title          41498 non-null  object \n",
      " 3   salary             41498 non-null  int64  \n",
      " 4   salaries_reported  41498 non-null  int64  \n",
      " 5   location           41498 non-null  object \n",
      " 6   employment_status  20747 non-null  object \n",
      " 7   job_roles          20747 non-null  object \n",
      " 8   salary_currency    41498 non-null  object \n",
      " 9   salary_usd         41498 non-null  float64\n",
      "dtypes: float64(2), int64(2), object(6)\n",
      "memory usage: 3.2+ MB\n",
      "None\n",
      "   rating                      company_name job_title   salary  \\\n",
      "0     3.8                            Sasken   Android   400000   \n",
      "1     4.5  Advanced Millennium Technologies   Android   400000   \n",
      "2     4.0                         Unacademy   Android  1000000   \n",
      "3     3.8                SnapBizz Cloudtech   Android   300000   \n",
      "4     4.4            Appoids Tech Solutions   Android   600000   \n",
      "\n",
      "   salaries_reported   location employment_status job_roles salary_currency  \\\n",
      "0                  3  Bangalore         Full Time   Android             INR   \n",
      "1                  3  Bangalore         Full Time   Android             INR   \n",
      "2                  3  Bangalore         Full Time   Android             INR   \n",
      "3                  3  Bangalore         Full Time   Android             INR   \n",
      "4                  3  Bangalore         Full Time   Android             INR   \n",
      "\n",
      "   salary_usd  \n",
      "0      4800.0  \n",
      "1      4800.0  \n",
      "2     12000.0  \n",
      "3      3600.0  \n",
      "4      7200.0  \n"
     ]
    }
   ],
   "source": [
    "import os\n",
    "\n",
    "# 获取当前 Notebook (`clean_data.ipynb`) 所在目录\n",
    "current_dir = os.getcwd()\n",
    "\n",
    "# 获取 `Projekt` 根目录（即 `raw_data` 的上一级目录）\n",
    "projekt_root = os.path.abspath(os.path.join(current_dir, \"..\", \"..\"))\n",
    "\n",
    "# 定义 `cleaned_data` 目录的正确路径\n",
    "cleaned_data_dir = os.path.join(projekt_root, \"cleaned_data\")\n",
    "\n",
    "# 确保 `cleaned_data` 目录存在\n",
    "os.makedirs(cleaned_data_dir, exist_ok=True)\n",
    "\n",
    "# 生成新的文件路径\n",
    "cleaned_file_path = os.path.join(cleaned_data_dir, \"cleaned_combined_salaries.csv\")\n",
    "\n",
    "# 保存文件到 `Projekt/cleaned_data`\n",
    "df_combined.to_csv(cleaned_file_path, index=False, encoding=\"utf-8\")\n",
    "print(f\"✅ 数据清理完成，文件已保存至 {cleaned_file_path}\")\n",
    "\n",
    "# 8️⃣ 预览清理后的数据\n",
    "print(df_combined.info())\n",
    "print(df_combined.head())"
   ]
  }
 ],
 "metadata": {
  "kernelspec": {
   "display_name": "Python 3 (ipykernel)",
   "language": "python",
   "name": "python3"
  },
  "language_info": {
   "codemirror_mode": {
    "name": "ipython",
    "version": 3
   },
   "file_extension": ".py",
   "mimetype": "text/x-python",
   "name": "python",
   "nbconvert_exporter": "python",
   "pygments_lexer": "ipython3",
   "version": "3.11.9"
  }
 },
 "nbformat": 4,
 "nbformat_minor": 5
}
